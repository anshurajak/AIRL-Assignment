{
  "nbformat": 4,
  "nbformat_minor": 0,
  "metadata": {
    "colab": {
      "provenance": [],
      "gpuType": "T4",
      "include_colab_link": true
    },
    "kernelspec": {
      "name": "python3",
      "display_name": "Python 3"
    },
    "language_info": {
      "name": "python"
    },
    "accelerator": "GPU"
  },
  "cells": [
    {
      "cell_type": "markdown",
      "metadata": {
        "id": "view-in-github",
        "colab_type": "text"
      },
      "source": [
        "<a href=\"https://colab.research.google.com/github/anshurajak/AIRL-Assignment/blob/main/q1.ipynb\" target=\"_parent\"><img src=\"https://colab.research.google.com/assets/colab-badge.svg\" alt=\"Open In Colab\"/></a>"
      ]
    },
    {
      "cell_type": "code",
      "source": [
        "import torch\n",
        "import torch.nn as nn\n",
        "import torch.nn.functional as F\n",
        "import torch.optim as optim\n",
        "from torch.utils.data import DataLoader\n",
        "from torchvision import datasets, transforms\n",
        "import numpy as np\n",
        "import matplotlib.pyplot as plt"
      ],
      "metadata": {
        "id": "3Rj6OMTQE-oE"
      },
      "execution_count": 1,
      "outputs": []
    },
    {
      "cell_type": "code",
      "source": [
        "# Set device\n",
        "device = torch.device(\"cuda\" if torch.cuda.is_available() else \"cpu\")\n",
        "print(f\"Using device: {device}\")"
      ],
      "metadata": {
        "colab": {
          "base_uri": "https://localhost:8080/"
        },
        "id": "8TcpdfJ4E_aB",
        "outputId": "303ef16e-90f2-4024-f2a5-271da12e99e7"
      },
      "execution_count": 2,
      "outputs": [
        {
          "output_type": "stream",
          "name": "stdout",
          "text": [
            "Using device: cuda\n"
          ]
        }
      ]
    },
    {
      "cell_type": "code",
      "source": [
        "# Hyperparameters\n",
        "BATCH_SIZE = 128\n",
        "EPOCHS = 20\n",
        "LEARNING_RATE = 3e-4\n",
        "PATCH_SIZE = 4\n",
        "NUM_CLASSES = 10\n",
        "IMAGE_SIZE = 32\n",
        "CHANNELS = 3\n",
        "EMBED_DIM = 256\n",
        "NUM_HEADS = 8\n",
        "DEPTH = 6\n",
        "MLP_DIM = 512\n",
        "DROP_RATE = 0.1"
      ],
      "metadata": {
        "id": "TvMLQAYXFD8V"
      },
      "execution_count": 3,
      "outputs": []
    },
    {
      "cell_type": "code",
      "source": [
        "# Data preprocessing\n",
        "from torchvision import transforms\n",
        "\n",
        "transform_train = transforms.Compose([\n",
        "    transforms.RandomResizedCrop(32, scale=(0.8, 1.0)),   # random zoom-in/out\n",
        "    transforms.RandomHorizontalFlip(),                    # flip left-right\n",
        "    transforms.ColorJitter(0.2, 0.2, 0.2, 0.1),           # brightness/contrast/saturation/hue\n",
        "    transforms.RandomRotation(15),                        # small rotations\n",
        "    transforms.ToTensor(),\n",
        "    transforms.Normalize((0.4914, 0.4822, 0.4465),        # CIFAR-10 mean\n",
        "                         (0.247, 0.243, 0.261)),          # CIFAR-10 std\n",
        "])\n",
        "\n",
        "transform_train = transforms.Compose([\n",
        "    transforms.ToTensor(),\n",
        "    transforms.Normalize((0.4914, 0.4822, 0.4465),\n",
        "                         (0.247, 0.243, 0.261)),\n",
        "])\n"
      ],
      "metadata": {
        "id": "sLNkf973FtXV"
      },
      "execution_count": 4,
      "outputs": []
    },
    {
      "cell_type": "code",
      "source": [
        "train_dataset = datasets.CIFAR10(root='./data', train=True, download=True, transform=transform_train)\n",
        "test_dataset = datasets.CIFAR10(root='./data', train=False, download=True, transform=transform_train)"
      ],
      "metadata": {
        "id": "kMkysDWxFviL",
        "colab": {
          "base_uri": "https://localhost:8080/"
        },
        "outputId": "40d2b4f5-6dfb-45d3-fbea-04c94c06c87b"
      },
      "execution_count": 5,
      "outputs": [
        {
          "output_type": "stream",
          "name": "stderr",
          "text": [
            "100%|██████████| 170M/170M [00:04<00:00, 37.2MB/s]\n"
          ]
        }
      ]
    },
    {
      "cell_type": "code",
      "source": [
        "train_loader = DataLoader(train_dataset, batch_size=BATCH_SIZE, shuffle=True)\n",
        "test_loader = DataLoader(test_dataset, batch_size=BATCH_SIZE, shuffle=False)"
      ],
      "metadata": {
        "id": "4QyjUh32Fxpt"
      },
      "execution_count": 6,
      "outputs": []
    },
    {
      "cell_type": "markdown",
      "source": [
        "# **ViT components**"
      ],
      "metadata": {
        "id": "4fyWkv1JF8Qz"
      }
    },
    {
      "cell_type": "code",
      "source": [
        "import torch\n",
        "import torch.nn as nn\n",
        "import torch.nn.functional as F\n",
        "\n",
        "# Patch Embedding\n",
        "class PatchEmbedding(nn.Module):\n",
        "    def __init__(self, img_size, patch_size, in_channels, embed_dim):\n",
        "        super().__init__()\n",
        "        self.patch_size = patch_size\n",
        "        self.proj = nn.Conv2d(in_channels, embed_dim, kernel_size=patch_size, stride=patch_size)\n",
        "        num_patches = (img_size // patch_size) ** 2\n",
        "        self.cls_token = nn.Parameter(torch.randn(1, 1, embed_dim))\n",
        "        self.pos_embed = nn.Parameter(torch.randn(1, 1 + num_patches, embed_dim))\n",
        "\n",
        "    def forward(self, x):\n",
        "        B = x.size(0)\n",
        "        x = self.proj(x)                          # (B, E, H/P, W/P)\n",
        "        x = x.flatten(2).transpose(1, 2)          # (B, N, E)\n",
        "        cls_tokens = self.cls_token.expand(B, -1, -1)\n",
        "        x = torch.cat((cls_tokens, x), dim=1)     # prepend CLS\n",
        "        x = x + self.pos_embed\n",
        "        return x"
      ],
      "metadata": {
        "id": "9FAz0rGBF3q3"
      },
      "execution_count": 7,
      "outputs": []
    },
    {
      "cell_type": "code",
      "source": [
        "class MLP(nn.Module):\n",
        "    def __init__(self, in_features, hidden_features, drop_rate):\n",
        "        super().__init__()\n",
        "        self.fc1 = nn.Linear(in_features, hidden_features)\n",
        "        self.fc2 = nn.Linear(hidden_features, in_features)\n",
        "        self.dropout = nn.Dropout(drop_rate)\n",
        "\n",
        "    def forward(self, x):\n",
        "        x = self.fc1(x)\n",
        "        x = F.gelu(x)\n",
        "        x = self.dropout(x)\n",
        "        x = self.fc2(x)\n",
        "        x = self.dropout(x)\n",
        "        return x\n"
      ],
      "metadata": {
        "id": "L1fLJPkhGDNX"
      },
      "execution_count": 8,
      "outputs": []
    },
    {
      "cell_type": "code",
      "source": [
        "class TransformerEncoderLayer(nn.Module):\n",
        "    def __init__(self, embed_dim, num_heads, mlp_dim, drop_rate):\n",
        "        super().__init__()\n",
        "        self.norm1 = nn.LayerNorm(embed_dim)\n",
        "        self.attn = nn.MultiheadAttention(embed_dim, num_heads, dropout=drop_rate, batch_first=True)\n",
        "        self.norm2 = nn.LayerNorm(embed_dim)\n",
        "        self.mlp = MLP(embed_dim, mlp_dim, drop_rate)\n",
        "\n",
        "    def forward(self, x):\n",
        "        # Multi-head self-attention with residual\n",
        "        attn_out, _ = self.attn(self.norm1(x), self.norm1(x), self.norm1(x))\n",
        "        x = x + attn_out\n",
        "        # Feed-forward with residual\n",
        "        x = x + self.mlp(self.norm2(x))\n",
        "        return x"
      ],
      "metadata": {
        "id": "P81YrvxjGJe9"
      },
      "execution_count": 9,
      "outputs": []
    },
    {
      "cell_type": "code",
      "source": [
        "class VisionTransformer(nn.Module):\n",
        "    def __init__(self, img_size, patch_size, in_channels, num_classes,\n",
        "                 embed_dim, depth, num_heads, mlp_dim, drop_rate):\n",
        "        super().__init__()\n",
        "        self.patch_embed = PatchEmbedding(img_size, patch_size, in_channels, embed_dim)\n",
        "        self.encoder = nn.Sequential(*[\n",
        "            TransformerEncoderLayer(embed_dim, num_heads, mlp_dim, drop_rate)\n",
        "            for _ in range(depth)\n",
        "        ])\n",
        "        self.norm = nn.LayerNorm(embed_dim)\n",
        "        self.dropout = nn.Dropout(drop_rate)\n",
        "        self.head = nn.Linear(embed_dim, num_classes)\n",
        "\n",
        "    def forward(self, x):\n",
        "        x = self.patch_embed(x)     # (B, N+1, E)\n",
        "        x = self.encoder(x)         # Transformer layers\n",
        "        x = self.norm(x)\n",
        "        cls_token = x[:, 0]         # Take CLS token\n",
        "        cls_token = self.dropout(cls_token)\n",
        "        return self.head(cls_token)"
      ],
      "metadata": {
        "id": "9L45xXsqG0Ju"
      },
      "execution_count": 10,
      "outputs": []
    },
    {
      "cell_type": "code",
      "source": [
        "# Instantiate model\n",
        "model = VisionTransformer(\n",
        "    IMAGE_SIZE, PATCH_SIZE, CHANNELS, NUM_CLASSES,\n",
        "    EMBED_DIM, DEPTH, NUM_HEADS, MLP_DIM, DROP_RATE\n",
        ").to(device)"
      ],
      "metadata": {
        "id": "5z30hHg4G34a"
      },
      "execution_count": 11,
      "outputs": []
    },
    {
      "cell_type": "code",
      "source": [
        "# Loss and optimizer\n",
        "criterion = nn.CrossEntropyLoss()\n",
        "optimizer = optim.Adam(model.parameters(), lr=3e-4)"
      ],
      "metadata": {
        "id": "jSEyD7dCG6eC"
      },
      "execution_count": 12,
      "outputs": []
    },
    {
      "cell_type": "code",
      "source": [
        "criterion"
      ],
      "metadata": {
        "colab": {
          "base_uri": "https://localhost:8080/"
        },
        "id": "-dNpcw0hwZ6n",
        "outputId": "4b33e8f4-5c60-4a3c-a009-777245f65d2d"
      },
      "execution_count": 13,
      "outputs": [
        {
          "output_type": "execute_result",
          "data": {
            "text/plain": [
              "CrossEntropyLoss()"
            ]
          },
          "metadata": {},
          "execution_count": 13
        }
      ]
    },
    {
      "cell_type": "code",
      "source": [
        "optimizer"
      ],
      "metadata": {
        "colab": {
          "base_uri": "https://localhost:8080/"
        },
        "id": "huIpah79wlbU",
        "outputId": "0d4a3e50-4f27-4568-f989-f048e49c2ba4"
      },
      "execution_count": 14,
      "outputs": [
        {
          "output_type": "execute_result",
          "data": {
            "text/plain": [
              "Adam (\n",
              "Parameter Group 0\n",
              "    amsgrad: False\n",
              "    betas: (0.9, 0.999)\n",
              "    capturable: False\n",
              "    decoupled_weight_decay: False\n",
              "    differentiable: False\n",
              "    eps: 1e-08\n",
              "    foreach: None\n",
              "    fused: None\n",
              "    lr: 0.0003\n",
              "    maximize: False\n",
              "    weight_decay: 0\n",
              ")"
            ]
          },
          "metadata": {},
          "execution_count": 14
        }
      ]
    },
    {
      "cell_type": "code",
      "source": [
        "def train(model, loader, optimizer, criterion):\n",
        "    model.train()\n",
        "    total_loss, correct = 0, 0\n",
        "\n",
        "    for x, y in loader:\n",
        "        x, y = x.to(device), y.to(device)\n",
        "\n",
        "        # Forward pass\n",
        "        out = model(x)\n",
        "        loss = criterion(out, y)\n",
        "\n",
        "        # Backward pass\n",
        "        optimizer.zero_grad()\n",
        "        loss.backward()\n",
        "        optimizer.step()\n",
        "\n",
        "        # Track loss and accuracy\n",
        "        total_loss += loss.item() * x.size(0)\n",
        "        correct += (out.argmax(dim=1) == y).sum().item()\n",
        "\n",
        "    avg_loss = total_loss / len(loader.dataset)\n",
        "    avg_acc = correct / len(loader.dataset)\n",
        "    return avg_loss, avg_acc\n"
      ],
      "metadata": {
        "id": "jOTWeDb8G9hO"
      },
      "execution_count": 15,
      "outputs": []
    },
    {
      "cell_type": "code",
      "source": [
        "# Evaluation loop\n",
        "def evaluate(model, loader, criterion):\n",
        "    model.eval()\n",
        "    total_loss, correct = 0, 0\n",
        "\n",
        "    with torch.no_grad():\n",
        "        for x, y in loader:\n",
        "            x, y = x.to(device), y.to(device)\n",
        "            out = model(x)\n",
        "            loss = criterion(out, y)\n",
        "\n",
        "            total_loss += loss.item() * x.size(0)\n",
        "            correct += (out.argmax(dim=1) == y).sum().item()\n",
        "\n",
        "    avg_loss = total_loss / len(loader.dataset)\n",
        "    avg_acc = correct / len(loader.dataset)\n",
        "    return avg_loss, avg_acc\n"
      ],
      "metadata": {
        "id": "zZC9jjC7HANV"
      },
      "execution_count": 16,
      "outputs": []
    },
    {
      "cell_type": "code",
      "source": [
        "train_losses, train_accuracies = [], []\n",
        "test_losses, test_accuracies = [], []\n",
        "\n",
        "best_test_acc = 0\n",
        "patience = 5  # Number of epochs to wait for improvement before stopping\n",
        "epochs_no_improve = 0\n",
        "\n",
        "for epoch in range(EPOCHS):\n",
        "    # Training step\n",
        "    train_loss, train_acc = train(model, train_loader, optimizer, criterion)\n",
        "\n",
        "    # Evaluation step\n",
        "    test_loss, test_acc = evaluate(model, test_loader, criterion)\n",
        "\n",
        "    # Save metrics\n",
        "    train_losses.append(train_loss)\n",
        "    train_accuracies.append(train_acc)\n",
        "    test_losses.append(test_loss)\n",
        "    test_accuracies.append(test_acc)\n",
        "\n",
        "    # Print progress\n",
        "    print(f\"Epoch {epoch+1}/{EPOCHS} \"\n",
        "          f\"Train Loss: {train_loss:.4f}, Train Acc: {train_acc:.4f} \"\n",
        "          f\"Test Loss: {test_loss:.4f}, Test Acc: {test_acc:.4f}\")\n",
        "\n",
        "    # Early stopping\n",
        "    if test_acc > best_test_acc:\n",
        "        best_test_acc = test_acc\n",
        "        epochs_no_improve = 0\n",
        "        torch.save(model.state_dict(), \"best_model.pth\")  # Save best model\n",
        "    else:\n",
        "        epochs_no_improve += 1\n",
        "        if epochs_no_improve == patience:\n",
        "            print(f\"⏹ Early stopping after {epoch+1} epochs (no improvement in test accuracy).\")\n",
        "            break\n"
      ],
      "metadata": {
        "id": "bAtYXdUDHNCp",
        "colab": {
          "base_uri": "https://localhost:8080/"
        },
        "outputId": "b837090a-3d49-4849-b21e-a21617f3a135"
      },
      "execution_count": 17,
      "outputs": [
        {
          "output_type": "stream",
          "name": "stdout",
          "text": [
            "Epoch 1/20 Train Loss: 1.6256, Train Acc: 0.4104 Test Loss: 1.3504, Test Acc: 0.5094\n",
            "Epoch 2/20 Train Loss: 1.2895, Train Acc: 0.5363 Test Loss: 1.2078, Test Acc: 0.5689\n",
            "Epoch 3/20 Train Loss: 1.1488, Train Acc: 0.5904 Test Loss: 1.1664, Test Acc: 0.5803\n",
            "Epoch 4/20 Train Loss: 1.0406, Train Acc: 0.6282 Test Loss: 1.1229, Test Acc: 0.5947\n",
            "Epoch 5/20 Train Loss: 0.9528, Train Acc: 0.6603 Test Loss: 1.0410, Test Acc: 0.6277\n",
            "Epoch 6/20 Train Loss: 0.8653, Train Acc: 0.6928 Test Loss: 1.0579, Test Acc: 0.6311\n",
            "Epoch 7/20 Train Loss: 0.7834, Train Acc: 0.7222 Test Loss: 1.0602, Test Acc: 0.6299\n",
            "Epoch 8/20 Train Loss: 0.7082, Train Acc: 0.7495 Test Loss: 1.0292, Test Acc: 0.6455\n",
            "Epoch 9/20 Train Loss: 0.6272, Train Acc: 0.7787 Test Loss: 1.0748, Test Acc: 0.6446\n",
            "Epoch 10/20 Train Loss: 0.5572, Train Acc: 0.8009 Test Loss: 1.1154, Test Acc: 0.6457\n",
            "Epoch 11/20 Train Loss: 0.4816, Train Acc: 0.8291 Test Loss: 1.1473, Test Acc: 0.6455\n",
            "Epoch 12/20 Train Loss: 0.4312, Train Acc: 0.8456 Test Loss: 1.2031, Test Acc: 0.6483\n",
            "Epoch 13/20 Train Loss: 0.3725, Train Acc: 0.8674 Test Loss: 1.2293, Test Acc: 0.6514\n",
            "Epoch 14/20 Train Loss: 0.3195, Train Acc: 0.8874 Test Loss: 1.3512, Test Acc: 0.6375\n",
            "Epoch 15/20 Train Loss: 0.2838, Train Acc: 0.8983 Test Loss: 1.3491, Test Acc: 0.6478\n",
            "Epoch 16/20 Train Loss: 0.2537, Train Acc: 0.9097 Test Loss: 1.4467, Test Acc: 0.6475\n",
            "Epoch 17/20 Train Loss: 0.2363, Train Acc: 0.9151 Test Loss: 1.4025, Test Acc: 0.6509\n",
            "Epoch 18/20 Train Loss: 0.2039, Train Acc: 0.9279 Test Loss: 1.4901, Test Acc: 0.6488\n",
            "⏹ Early stopping after 18 epochs (no improvement in test accuracy).\n"
          ]
        }
      ]
    },
    {
      "cell_type": "code",
      "source": [
        "# Plot accuracy\n",
        "plt.plot(train_accuracies, label='Train Accuracy')\n",
        "plt.plot(test_accuracies, label='Test Accuracy')\n",
        "plt.xlabel('Epoch')\n",
        "plt.ylabel('Accuracy')\n",
        "plt.legend()\n",
        "plt.title('Training and Test Accuracy')\n",
        "plt.show()"
      ],
      "metadata": {
        "id": "IEyfVgoWayMK",
        "colab": {
          "base_uri": "https://localhost:8080/",
          "height": 472
        },
        "outputId": "669f544c-0c9c-4ed7-c103-7401f315ed69"
      },
      "execution_count": 18,
      "outputs": [
        {
          "output_type": "display_data",
          "data": {
            "text/plain": [
              "<Figure size 640x480 with 1 Axes>"
            ],
            "image/png": "[encoded data removed]"
          },
          "metadata": {}
        }
      ]
    },
    {
      "cell_type": "code",
      "source": [
        "import random"
      ],
      "metadata": {
        "id": "IFW1U5ocyDYa"
      },
      "execution_count": 19,
      "outputs": []
    },
    {
      "cell_type": "code",
      "source": [
        "test_dataset[0][0].shape"
      ],
      "metadata": {
        "id": "v77pbl7e0EWP",
        "colab": {
          "base_uri": "https://localhost:8080/"
        },
        "outputId": "143f7ec7-d048-4f82-eb35-04d5bd71aacc"
      },
      "execution_count": 20,
      "outputs": [
        {
          "output_type": "execute_result",
          "data": {
            "text/plain": [
              "torch.Size([3, 32, 32])"
            ]
          },
          "metadata": {},
          "execution_count": 20
        }
      ]
    },
    {
      "cell_type": "code",
      "source": [
        "test_dataset[0][0].unsqueeze(dim=0).shape"
      ],
      "metadata": {
        "id": "Em0mvzfY6IUe",
        "colab": {
          "base_uri": "https://localhost:8080/"
        },
        "outputId": "febe0d65-c3cf-4e28-fa01-bdb252d0d504"
      },
      "execution_count": 21,
      "outputs": [
        {
          "output_type": "execute_result",
          "data": {
            "text/plain": [
              "torch.Size([1, 3, 32, 32])"
            ]
          },
          "metadata": {},
          "execution_count": 21
        }
      ]
    },
    {
      "cell_type": "code",
      "source": [
        "def predict_and_plot_grid(model, dataset, classes, grid_size = 3):\n",
        "  model.eval()\n",
        "  fig, axes = plt.subplots(grid_size, grid_size, figsize = (9,9)) # Corrected plt.subplot to plt.subplots\n",
        "  for i in range(grid_size):\n",
        "    for j in range(grid_size):\n",
        "      idx = random.randint(0, len(dataset) - 1)\n",
        "      img, true_label = dataset[idx]\n",
        "      input_tensor = img.unsqueeze(dim=0).to(device)\n",
        "\n",
        "      with torch.no_grad(): # Corrected torch.interence_nodel() to torch.no_grad()\n",
        "        output = model(input_tensor)\n",
        "        _, predicted = torch.max(output.data, 1)\n",
        "\n",
        "      # Normalize image for display\n",
        "      img = img / 2 + 0.5\n",
        "      npimg = img.cpu().numpy()\n",
        "\n",
        "      # Corrected transpose for image display\n",
        "      axes[i, j].imshow(np.transpose(npimg, (1, 2, 0)))\n",
        "\n",
        "      truth = classes[true_label] == classes[predicted.item()]\n",
        "      if truth:\n",
        "        color = 'g'\n",
        "      else:\n",
        "        color = \"r\" # Corrected variable name from c to color\n",
        "\n",
        "      # Corrected f-string syntax\n",
        "      axes[i, j].set_title(f\"Truth: {classes[true_label]}\\nPredicted: {classes[predicted.item()]}\", fontsize = 10, color = color)\n",
        "      axes[i, j].axis('off')\n",
        "  plt.tight_layout()\n",
        "  plt.show()"
      ],
      "metadata": {
        "id": "W6Sb2uHqyYJk"
      },
      "execution_count": 22,
      "outputs": []
    },
    {
      "cell_type": "code",
      "source": [
        "predict_and_plot_grid(model, test_dataset, classes= train_dataset.classes, grid_size=3)"
      ],
      "metadata": {
        "id": "D8FEMr_s3q3W",
        "colab": {
          "base_uri": "https://localhost:8080/",
          "height": 1000
        },
        "outputId": "df22b210-b52b-46e9-f038-db5ce4496c8f"
      },
      "execution_count": 23,
      "outputs": [
        {
          "output_type": "stream",
          "name": "stderr",
          "text": [
            "WARNING:matplotlib.image:Clipping input data to the valid range for imshow with RGB data ([0..1] for floats or [0..255] for integers). Got range [-0.4709217..1.5492939].\n",
            "WARNING:matplotlib.image:Clipping input data to the valid range for imshow with RGB data ([0..1] for floats or [0..255] for integers). Got range [-0.34033883..1.5077567].\n",
            "WARNING:matplotlib.image:Clipping input data to the valid range for imshow with RGB data ([0..1] for floats or [0..255] for integers). Got range [-0.3677225..1.5603448].\n",
            "WARNING:matplotlib.image:Clipping input data to the valid range for imshow with RGB data ([0..1] for floats or [0..255] for integers). Got range [-0.22765005..1.2914028].\n",
            "WARNING:matplotlib.image:Clipping input data to the valid range for imshow with RGB data ([0..1] for floats or [0..255] for integers). Got range [-0.19307774..1.5453197].\n",
            "WARNING:matplotlib.image:Clipping input data to the valid range for imshow with RGB data ([0..1] for floats or [0..255] for integers). Got range [-0.21689296..1.5654321].\n",
            "WARNING:matplotlib.image:Clipping input data to the valid range for imshow with RGB data ([0..1] for floats or [0..255] for integers). Got range [-0.20169443..1.5216162].\n",
            "WARNING:matplotlib.image:Clipping input data to the valid range for imshow with RGB data ([0..1] for floats or [0..255] for integers). Got range [-0.23397076..1.5250868].\n",
            "WARNING:matplotlib.image:Clipping input data to the valid range for imshow with RGB data ([0..1] for floats or [0..255] for integers). Got range [-0.4312297..1.537807].\n"
          ]
        },
        {
          "output_type": "display_data",
          "data": {
            "text/plain": [
              "<Figure size 900x900 with 9 Axes>"
            ],
            "image/png": "[encoded data removed]"
          },
          "metadata": {}
        }
      ]
    },
    {
      "cell_type": "code",
      "source": [],
      "metadata": {
        "id": "ZuDv7W4f4JVn"
      },
      "execution_count": 23,
      "outputs": []
    }
  ]
}